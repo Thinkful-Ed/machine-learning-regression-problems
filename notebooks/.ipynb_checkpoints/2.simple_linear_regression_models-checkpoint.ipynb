{
 "cells": [
  {
   "cell_type": "markdown",
   "metadata": {},
   "source": [
    "# Simple Linear Regression Model and OLS\n",
    "\n",
    "One of the most simplest and yet very commonly used method for regression problems is linear regression models. In this checkpoint, we explore how to formulate a linear regression model and estimate it using Ordinary Least Squares (OLS) method. Although it is not the only one, OLS is by far the most common method of estimating linear regression models. This technique is so common and canonical that people will often refer to it simply as \"regression\", even though there are plenty of other techniques and types of models that qualify as regressions. In this checkpoint we'll cover the basic formulation of the linear regression model and the OLS algorithm."
   ]
  },
  {
   "cell_type": "markdown",
   "metadata": {},
   "source": [
    "## Formulating a linear regression model\n",
    "\n",
    "In the previous checkpoint, we saw that linear regression model fits a best line which represents a relationship between the features and the target. To be more precise, a linear regression model can be formulated mathematically like this:\n",
    "\n",
    "$$ y = \\beta_0 + \\beta_1x_1 + \\beta_2x_2 + ... + \\beta_nx_n + \\epsilon \\qquad(eq.1)$$\n",
    "\n",
    "In (eq.1), $y$ represents the target variable and $x_1, x_2,..., x_n$s represent the features. $n$ denotes the number of the features. The unknowns of the equation above are the $\\beta$ terms. $ \\beta_0 $ refers to the intercept, bias term or constant. All the others ($\\beta_1, \\beta_2,...,\\beta_n$) are called the coefficients. The $\\epsilon$ is the error term which represents the information in $y$ that is unexplained by the features.\n",
    "\n",
    "**Note:** In linear regression models, it's common to call features in a model as __explanatory variables__ or __independent variables__ and the target variable as __explained variable__ or __dependent variable__. So, don't get surprised if you stumble upon these alternative terms in some other places. \n",
    "\n",
    "The expression above can be written in a more compact form using the summation ( $\\sum$ ) operator as follows:\n",
    "\n",
    "$$ y = \\beta_0 + \\sum_{i=1}^{n}\\beta_ix_i + \\epsilon \\qquad(eq.2)$$\n",
    "\n",
    "\n",
    "In (eq.2), $\\sum_{i=1}^{n}$ adds up each $\\beta_ix_i$ where the subscript $i$ refers to the index of the features and the coefficients. Hence $\\sum_{i=1}^{n}$ starts from $i=1$ and goes till $i=n$.\n"
   ]
  },
  {
   "cell_type": "markdown",
   "metadata": {},
   "source": [
    "## Insurance charges dataset\n",
    "\n",
    "Throughout this module, we'll illustrate the linear regression model using a dataset from Kaggle. The dataset is called \"Medical Cost Personal Dataset\" and can be found in this [link](https://www.kaggle.com/mirichoi0218/insurance/home). The data is about the costs charged by the insurance companies to the individuals. The dataset includes six variables as described below:\n",
    "\n",
    "* age: The age of the individuals. It's a numeric.\n",
    "* sex: The gender of the insured. It is categorical (male or female).\n",
    "* bmi: Body mass index. It is an index that aims to indicate whether the weight of a person is relatively higher or lower than the height. It should be ideally between 18.5 and 24.9. The variable is continuous.\n",
    "* children: The number of children of the person who are covered by the insurance. It's numeric variable.\n",
    "* smoker: This variable indicates whether the person is smoking or not. It's a categorical variable (yes, no).\n",
    "* region: the person's residential area in the US. It's a categorical variable (northeast, southeast, southwest, northwest). \n",
    "* charges: The medical costs (in US dollars) billed by the insurance company. It's a continuous variable.\n",
    "\n",
    "In the examples, our target variable will be the \"charges\" billed by the insurance company. Since, it's a continuous variable, our task is a regression one as we discussed in the previous checkpoint.\n"
   ]
  },
  {
   "cell_type": "markdown",
   "metadata": {},
   "source": [
    "To choose the features we use in our first model, we do a brief exploratory analysis here. First, let's import the relevant libraries:"
   ]
  },
  {
   "cell_type": "code",
   "execution_count": 77,
   "metadata": {},
   "outputs": [],
   "source": [
    "import numpy as np\n",
    "import pandas as pd\n",
    "from sklearn import linear_model\n",
    "import matplotlib.pyplot as plt\n",
    "\n",
    "import warnings\n",
    "warnings.filterwarnings('ignore')"
   ]
  },
  {
   "cell_type": "markdown",
   "metadata": {},
   "source": [
    "Next, we load the data from the Postgresql database and print out some observations:"
   ]
  },
  {
   "cell_type": "code",
   "execution_count": 79,
   "metadata": {
    "scrolled": false
   },
   "outputs": [
    {
     "data": {
      "text/html": [
       "<div>\n",
       "<style scoped>\n",
       "    .dataframe tbody tr th:only-of-type {\n",
       "        vertical-align: middle;\n",
       "    }\n",
       "\n",
       "    .dataframe tbody tr th {\n",
       "        vertical-align: top;\n",
       "    }\n",
       "\n",
       "    .dataframe thead th {\n",
       "        text-align: right;\n",
       "    }\n",
       "</style>\n",
       "<table border=\"1\" class=\"dataframe\">\n",
       "  <thead>\n",
       "    <tr style=\"text-align: right;\">\n",
       "      <th></th>\n",
       "      <th>age</th>\n",
       "      <th>sex</th>\n",
       "      <th>bmi</th>\n",
       "      <th>children</th>\n",
       "      <th>smoker</th>\n",
       "      <th>region</th>\n",
       "      <th>charges</th>\n",
       "    </tr>\n",
       "  </thead>\n",
       "  <tbody>\n",
       "    <tr>\n",
       "      <th>0</th>\n",
       "      <td>19</td>\n",
       "      <td>female</td>\n",
       "      <td>27.900</td>\n",
       "      <td>0</td>\n",
       "      <td>yes</td>\n",
       "      <td>southwest</td>\n",
       "      <td>16884.92400</td>\n",
       "    </tr>\n",
       "    <tr>\n",
       "      <th>1</th>\n",
       "      <td>18</td>\n",
       "      <td>male</td>\n",
       "      <td>33.770</td>\n",
       "      <td>1</td>\n",
       "      <td>no</td>\n",
       "      <td>southeast</td>\n",
       "      <td>1725.55230</td>\n",
       "    </tr>\n",
       "    <tr>\n",
       "      <th>2</th>\n",
       "      <td>28</td>\n",
       "      <td>male</td>\n",
       "      <td>33.000</td>\n",
       "      <td>3</td>\n",
       "      <td>no</td>\n",
       "      <td>southeast</td>\n",
       "      <td>4449.46200</td>\n",
       "    </tr>\n",
       "    <tr>\n",
       "      <th>3</th>\n",
       "      <td>33</td>\n",
       "      <td>male</td>\n",
       "      <td>22.705</td>\n",
       "      <td>0</td>\n",
       "      <td>no</td>\n",
       "      <td>northwest</td>\n",
       "      <td>21984.47061</td>\n",
       "    </tr>\n",
       "    <tr>\n",
       "      <th>4</th>\n",
       "      <td>32</td>\n",
       "      <td>male</td>\n",
       "      <td>28.880</td>\n",
       "      <td>0</td>\n",
       "      <td>no</td>\n",
       "      <td>northwest</td>\n",
       "      <td>3866.85520</td>\n",
       "    </tr>\n",
       "    <tr>\n",
       "      <th>5</th>\n",
       "      <td>31</td>\n",
       "      <td>female</td>\n",
       "      <td>25.740</td>\n",
       "      <td>0</td>\n",
       "      <td>no</td>\n",
       "      <td>southeast</td>\n",
       "      <td>3756.62160</td>\n",
       "    </tr>\n",
       "    <tr>\n",
       "      <th>6</th>\n",
       "      <td>46</td>\n",
       "      <td>female</td>\n",
       "      <td>33.440</td>\n",
       "      <td>1</td>\n",
       "      <td>no</td>\n",
       "      <td>southeast</td>\n",
       "      <td>8240.58960</td>\n",
       "    </tr>\n",
       "    <tr>\n",
       "      <th>7</th>\n",
       "      <td>37</td>\n",
       "      <td>female</td>\n",
       "      <td>27.740</td>\n",
       "      <td>3</td>\n",
       "      <td>no</td>\n",
       "      <td>northwest</td>\n",
       "      <td>7281.50560</td>\n",
       "    </tr>\n",
       "    <tr>\n",
       "      <th>8</th>\n",
       "      <td>37</td>\n",
       "      <td>male</td>\n",
       "      <td>29.830</td>\n",
       "      <td>2</td>\n",
       "      <td>no</td>\n",
       "      <td>northeast</td>\n",
       "      <td>6406.41070</td>\n",
       "    </tr>\n",
       "    <tr>\n",
       "      <th>9</th>\n",
       "      <td>60</td>\n",
       "      <td>female</td>\n",
       "      <td>25.840</td>\n",
       "      <td>0</td>\n",
       "      <td>no</td>\n",
       "      <td>northwest</td>\n",
       "      <td>28923.13692</td>\n",
       "    </tr>\n",
       "  </tbody>\n",
       "</table>\n",
       "</div>"
      ],
      "text/plain": [
       "   age     sex     bmi  children smoker     region      charges\n",
       "0   19  female  27.900         0    yes  southwest  16884.92400\n",
       "1   18    male  33.770         1     no  southeast   1725.55230\n",
       "2   28    male  33.000         3     no  southeast   4449.46200\n",
       "3   33    male  22.705         0     no  northwest  21984.47061\n",
       "4   32    male  28.880         0     no  northwest   3866.85520\n",
       "5   31  female  25.740         0     no  southeast   3756.62160\n",
       "6   46  female  33.440         1     no  southeast   8240.58960\n",
       "7   37  female  27.740         3     no  northwest   7281.50560\n",
       "8   37    male  29.830         2     no  northeast   6406.41070\n",
       "9   60  female  25.840         0     no  northwest  28923.13692"
      ]
     },
     "execution_count": 79,
     "metadata": {},
     "output_type": "execute_result"
    }
   ],
   "source": [
    "## todo the data will be loaded from postgre\n",
    "insurance_df = pd.read_csv(\"../datasets/insurance.csv\")\n",
    "insurance_df.head(10)"
   ]
  },
  {
   "cell_type": "markdown",
   "metadata": {},
   "source": [
    "Notice that the categorical variables are strings and we need to convert them to numerical values. This can be viewed as part of a feature enginnering process: "
   ]
  },
  {
   "cell_type": "code",
   "execution_count": 80,
   "metadata": {},
   "outputs": [],
   "source": [
    "insurance_df[\"is_male\"] = pd.get_dummies(insurance_df.sex)[\"male\"]\n",
    "insurance_df[\"is_smoker\"] = pd.get_dummies(insurance_df.smoker)[\"yes\"]\n",
    "\n",
    "insurance_df.region[np.where(np.isin(insurance_df.region, \"southwest\"))[0]] = 0\n",
    "insurance_df.region[np.where(np.isin(insurance_df.region, \"northwest\"))[0]] = 1\n",
    "insurance_df.region[np.where(np.isin(insurance_df.region, \"southeast\"))[0]] = 2\n",
    "insurance_df.region[np.where(np.isin(insurance_df.region, \"northeast\"))[0]] = 3"
   ]
  },
  {
   "cell_type": "markdown",
   "metadata": {},
   "source": [
    "At a first glance, gender and smoking may play an important role in the insurance charges. So, let's look at whether we see some differences between the average costs billed to different genders and to the ones who smoke:"
   ]
  },
  {
   "cell_type": "code",
   "execution_count": 69,
   "metadata": {
    "scrolled": true
   },
   "outputs": [
    {
     "data": {
      "image/png": "[encoded data removed]",
      "text/plain": [
       "<Figure size 720x432 with 2 Axes>"
      ]
     },
     "metadata": {},
     "output_type": "display_data"
    }
   ],
   "source": [
    "plt.figure(figsize=(10,6))\n",
    "\n",
    "plt.subplot(1,2,1)\n",
    "plt.bar(insurance_df.groupby(\"is_male\")[\"charges\"].mean().index, insurance_df.groupby(\"is_male\")[\"charges\"].mean(),\n",
    "       color=(\"pink\",\"blue\"))\n",
    "plt.title(\"Average insurance cost wrt. gender\")\n",
    "plt.ylabel(\"Average cost\")\n",
    "plt.xlabel(\"Is male?\")\n",
    "plt.xticks([0,1])\n",
    "\n",
    "plt.subplot(1,2,2)\n",
    "plt.bar(insurance_df.groupby(\"is_smoker\")[\"charges\"].mean().index, insurance_df.groupby(\"is_smoker\")[\"charges\"].mean(),\n",
    "       color=(\"green\",\"grey\"))\n",
    "plt.title(\"Average insurance cost wrt. smoking\")\n",
    "plt.ylabel(\"Average cost\")\n",
    "plt.xlabel(\"Is smoker?\")\n",
    "plt.xticks([0,1])\n",
    "\n",
    "plt.tight_layout()\n",
    "plt.show()\n"
   ]
  },
  {
   "cell_type": "markdown",
   "metadata": {},
   "source": [
    "As can be seen in the graph, the average costs seem to be different between different groups. So on average, males seem to be charged higher than females and smokers are charged higher than non-smokers. Let's build our first model using these two features."
   ]
  },
  {
   "cell_type": "markdown",
   "metadata": {},
   "source": [
    "## Modeling the insurance charges with linear regression\n",
    "\n",
    "Let's illustrate how we can model the insurance cost using a simple linear regression model. Our target variable is \"charges\" and we include two categorical variables as our features: \"is_male\" and \"is_smoker\". Hence, our model becomes: \n",
    "\n",
    "$$ charges = \\beta_0 + \\beta_1is\\_smoker + \\beta_2is\\_male + \\epsilon \\qquad(eq.3)$$\n",
    "\n",
    "$\\beta_0$ is the constant and $\\beta_1$ and $\\beta_2$ are the coefficients of is_smoker and is_male dummies respectively. "
   ]
  },
  {
   "cell_type": "markdown",
   "metadata": {},
   "source": [
    "**An important remark**: Putting a constant in a model is optional, but it's a good idea to include a constant in every model you build. Even though you believe that the constant would be zero, letting the model to decide whether it is zero or not is the safest way."
   ]
  },
  {
   "cell_type": "markdown",
   "metadata": {},
   "source": [
    "## How to find the optimal values for the coefficients?\n",
    "\n",
    "Formulating a model is the first step in a regression problem. But, we need to find a way to discover the optimal values for the unknowns (the coefficients) in the equation above. Recall that, finding the optimal values of the unknowns are called **optimization** and hence we need an optimization algorithm to solve for the optimal coefficient values. \n",
    "\n",
    "The most common optimization algorithm used in the simple linear regression models is called **Ordinary Least Squares** or **OLS** in short.\n"
   ]
  },
  {
   "cell_type": "markdown",
   "metadata": {},
   "source": [
    "## The machinery of OLS\n",
    "\n",
    "OLS tries to minimize the squared sums of the error terms ($\\epsilon$) in the model. We can write the error term as following:\n",
    "\n",
    "$$(y - \\beta_0 - \\sum_{i=1}^{n}\\beta_ix_i ) = \\epsilon \\qquad(eq.4)$$\n",
    "\n",
    "If we take the squares of the each sides, it becomes:\n",
    "\n",
    "$$(y - \\beta_0 - \\sum_{i=1}^{n}\\beta_ix_i )^2 = \\epsilon^2 \\qquad(eq.5)$$\n",
    "\n",
    "Notice that, this error term is just for a single observation. If we have, say, $m$ observations in our dataset, then the sum of the squared errors can be represented like this:\n",
    "\n",
    "$$\\sum_{j=1}^{m}(y_j - \\beta_0 - \\sum_{i=1}^{n}\\beta_ix_{ij} )^2 = \\sum_{j=1}^{m}\\epsilon_j^2 \\qquad(eq.6)$$\n",
    "\n",
    "Recall that the index $i$ was representing the number of the features in the model. In the equation above, the index $j$ represents the number of observations. Hence, we go over each observation and add up their squared error terms. However, using matrix notation simplifies the expression:\n",
    "\n",
    "$$y - \\beta X = \\epsilon \\qquad(eq.7)$$\n",
    "\n",
    "We will not go deeper into the derivation of the coefficients, but all you need to do is to take the derivative of the both sides with respect to the each coefficients and equate them to zero! If you solve the resulting equations, then you end up with the optimal values of the coefficients:\n",
    "\n",
    "$$ \\hat{\\beta} = (X^TX)^{-1}X^Ty \\qquad(eq.8)$$\n",
    "\n",
    "In (eq.8), $\\hat{\\beta}$ indicates the estimated coefficients vector, $X^T$ refers to the transpose of the feature matrix (X) and superscript $^{-1}$ refers to the inverse of a matrix.\n",
    "\n",
    "That's it! If you want to learn more about the derivation steps, you can read the [Wikipedia article](https://en.wikipedia.org/wiki/Ordinary_least_squares)."
   ]
  },
  {
   "cell_type": "markdown",
   "metadata": {},
   "source": [
    "## An initial model for insurance charges\n",
    "\n",
    "Using (eq.3) above, now we build a simple linear regression model and estimate it using OLS. So far in the bootcamp, we mainly used scikit-learn as our machine learning package. Here, we want to introduce another popular library for regression analysis called statsmodels. You may find using statsmodels for fitting linear regression models easier because it's `summary()` function outputs many important metrics in a tabular form. Getting the same metrics in scikit-learn requires more work.\n",
    "\n",
    "Let's begin with scikit-learn. We'll use `LinearRegression()` model from the `linear_model` module:"
   ]
  },
  {
   "cell_type": "code",
   "execution_count": 83,
   "metadata": {
    "scrolled": true
   },
   "outputs": [
    {
     "name": "stdout",
     "output_type": "stream",
     "text": [
      "\n",
      "Coefficients: \n",
      " [  -65.37843464 23622.1345855 ]\n",
      "\n",
      "Intercept: \n",
      " 8466.035826716768\n"
     ]
    }
   ],
   "source": [
    "# Y is the target variable\n",
    "Y = insurance_df['charges']\n",
    "# X is the feature set which includes\n",
    "# is_male and is_smoker variables\n",
    "X = insurance_df[['is_male','is_smoker']]\n",
    "\n",
    "# We create a LinearRegression model object\n",
    "# from scikit-learn's linear_model module.\n",
    "lrm = linear_model.LinearRegression()\n",
    "\n",
    "# fit method estimates the coefficients using OLS\n",
    "lrm.fit(X, Y)\n",
    "\n",
    "# Inspect the results.\n",
    "print('\\nCoefficients: \\n', lrm.coef_)\n",
    "print('\\nIntercept: \\n', lrm.intercept_)"
   ]
  },
  {
   "cell_type": "markdown",
   "metadata": {},
   "source": [
    "`LinearRegression()`'s `fit()` method runs OLS algorithm by default. Since we get the parameters using OLS, we can rewrite our model:\n",
    "\n",
    "$$ charges = 8466.04 + -65.38is\\_male + 23622.13is\\_smoker \\qquad(eq.9)$$"
   ]
  },
  {
   "cell_type": "markdown",
   "metadata": {},
   "source": [
    "Our estimated constant is 8466.04. Estimated coefficients of is_male and is_smoker features are -65.38 and 23622.13 respectively. Later in this module, we'll delve into how to interpret these estimated coefficients.\n",
    "\n",
    "Now, we run the same model this time by using statsmodels. If you didn't install it already, you can run `pip install statsmodels` from the command line. "
   ]
  },
  {
   "cell_type": "code",
   "execution_count": 82,
   "metadata": {
    "scrolled": true
   },
   "outputs": [
    {
     "data": {
      "text/html": [
       "<table class=\"simpletable\">\n",
       "<caption>OLS Regression Results</caption>\n",
       "<tr>\n",
       "  <th>Dep. Variable:</th>         <td>charges</td>     <th>  R-squared:         </th> <td>   0.620</td> \n",
       "</tr>\n",
       "<tr>\n",
       "  <th>Model:</th>                   <td>OLS</td>       <th>  Adj. R-squared:    </th> <td>   0.619</td> \n",
       "</tr>\n",
       "<tr>\n",
       "  <th>Method:</th>             <td>Least Squares</td>  <th>  F-statistic:       </th> <td>   1088.</td> \n",
       "</tr>\n",
       "<tr>\n",
       "  <th>Date:</th>             <td>Thu, 11 Oct 2018</td> <th>  Prob (F-statistic):</th> <td>4.78e-281</td>\n",
       "</tr>\n",
       "<tr>\n",
       "  <th>Time:</th>                 <td>14:53:27</td>     <th>  Log-Likelihood:    </th> <td> -13831.</td> \n",
       "</tr>\n",
       "<tr>\n",
       "  <th>No. Observations:</th>      <td>  1338</td>      <th>  AIC:               </th> <td>2.767e+04</td>\n",
       "</tr>\n",
       "<tr>\n",
       "  <th>Df Residuals:</th>          <td>  1335</td>      <th>  BIC:               </th> <td>2.768e+04</td>\n",
       "</tr>\n",
       "<tr>\n",
       "  <th>Df Model:</th>              <td>     2</td>      <th>                     </th>     <td> </td>    \n",
       "</tr>\n",
       "<tr>\n",
       "  <th>Covariance Type:</th>      <td>nonrobust</td>    <th>                     </th>     <td> </td>    \n",
       "</tr>\n",
       "</table>\n",
       "<table class=\"simpletable\">\n",
       "<tr>\n",
       "      <td></td>         <th>coef</th>     <th>std err</th>      <th>t</th>      <th>P>|t|</th>  <th>[0.025</th>    <th>0.975]</th>  \n",
       "</tr>\n",
       "<tr>\n",
       "  <th>const</th>     <td> 8466.0358</td> <td>  303.541</td> <td>   27.891</td> <td> 0.000</td> <td> 7870.566</td> <td> 9061.506</td>\n",
       "</tr>\n",
       "<tr>\n",
       "  <th>is_male</th>   <td>  -65.3784</td> <td>  409.809</td> <td>   -0.160</td> <td> 0.873</td> <td> -869.318</td> <td>  738.561</td>\n",
       "</tr>\n",
       "<tr>\n",
       "  <th>is_smoker</th> <td> 2.362e+04</td> <td>  507.736</td> <td>   46.524</td> <td> 0.000</td> <td> 2.26e+04</td> <td> 2.46e+04</td>\n",
       "</tr>\n",
       "</table>\n",
       "<table class=\"simpletable\">\n",
       "<tr>\n",
       "  <th>Omnibus:</th>       <td>135.842</td> <th>  Durbin-Watson:     </th> <td>   2.025</td>\n",
       "</tr>\n",
       "<tr>\n",
       "  <th>Prob(Omnibus):</th> <td> 0.000</td>  <th>  Jarque-Bera (JB):  </th> <td> 211.897</td>\n",
       "</tr>\n",
       "<tr>\n",
       "  <th>Skew:</th>          <td> 0.727</td>  <th>  Prob(JB):          </th> <td>9.71e-47</td>\n",
       "</tr>\n",
       "<tr>\n",
       "  <th>Kurtosis:</th>      <td> 4.299</td>  <th>  Cond. No.          </th> <td>    2.97</td>\n",
       "</tr>\n",
       "</table><br/><br/>Warnings:<br/>[1] Standard Errors assume that the covariance matrix of the errors is correctly specified."
      ],
      "text/plain": [
       "<class 'statsmodels.iolib.summary.Summary'>\n",
       "\"\"\"\n",
       "                            OLS Regression Results                            \n",
       "==============================================================================\n",
       "Dep. Variable:                charges   R-squared:                       0.620\n",
       "Model:                            OLS   Adj. R-squared:                  0.619\n",
       "Method:                 Least Squares   F-statistic:                     1088.\n",
       "Date:                Thu, 11 Oct 2018   Prob (F-statistic):          4.78e-281\n",
       "Time:                        14:53:27   Log-Likelihood:                -13831.\n",
       "No. Observations:                1338   AIC:                         2.767e+04\n",
       "Df Residuals:                    1335   BIC:                         2.768e+04\n",
       "Df Model:                           2                                         \n",
       "Covariance Type:            nonrobust                                         \n",
       "==============================================================================\n",
       "                 coef    std err          t      P>|t|      [0.025      0.975]\n",
       "------------------------------------------------------------------------------\n",
       "const       8466.0358    303.541     27.891      0.000    7870.566    9061.506\n",
       "is_male      -65.3784    409.809     -0.160      0.873    -869.318     738.561\n",
       "is_smoker   2.362e+04    507.736     46.524      0.000    2.26e+04    2.46e+04\n",
       "==============================================================================\n",
       "Omnibus:                      135.842   Durbin-Watson:                   2.025\n",
       "Prob(Omnibus):                  0.000   Jarque-Bera (JB):              211.897\n",
       "Skew:                           0.727   Prob(JB):                     9.71e-47\n",
       "Kurtosis:                       4.299   Cond. No.                         2.97\n",
       "==============================================================================\n",
       "\n",
       "Warnings:\n",
       "[1] Standard Errors assume that the covariance matrix of the errors is correctly specified.\n",
       "\"\"\""
      ]
     },
     "execution_count": 82,
     "metadata": {},
     "output_type": "execute_result"
    }
   ],
   "source": [
    "import statsmodels.api as sm\n",
    "\n",
    "X = sm.add_constant(X)\n",
    "\n",
    "results = sm.OLS(Y, X).fit()\n",
    "\n",
    "results.summary()"
   ]
  },
  {
   "cell_type": "markdown",
   "metadata": {},
   "source": [
    "First notice that we added constant to our existing feature set using this code:`X = sm.add_constant(X)`. This is because, statsmodels' `fit()` function doesn't add constant by default as opposed to scikit-learn's `fit()` function.\n",
    "\n",
    "Second, when we call the `summary()` function on the fitted ols model, it prints out a table full of some statistics. Don't worry about those statistics as we'll go over later in this module. But, you can see the estimated coefficients are exactly the same as what we got from the scikit-learn."
   ]
  },
  {
   "cell_type": "markdown",
   "metadata": {},
   "source": [
    "# Drill 1: Write OLS from scratch\n",
    "In the cells below, you need to fill in the required parts of the code to implement OLS algorithm using NumPy. For the exercise, you will use (eq.3) above, which is:\n",
    "\n",
    "$$ charges = \\beta_0 + \\beta_1is\\_smoker + \\beta_2is\\_male + \\epsilon \\qquad(eq.3)$$\n",
    "\n",
    "Using the solution in (eq.8), you need to implement OLS algorithm below:"
   ]
  },
  {
   "cell_type": "code",
   "execution_count": 1,
   "metadata": {},
   "outputs": [],
   "source": [
    "# X is the feature matrix\n",
    "# y is the vector of target values\n",
    "def estimate(X, y):\n",
    "    # beta_hat will hold the estimated coefficients\n",
    "    beta_hat = np.array() \n",
    "    '''\n",
    "    you need to write your own code here\n",
    "    \n",
    "    '''\n",
    "    return beta_hat "
   ]
  },
  {
   "cell_type": "markdown",
   "metadata": {},
   "source": [
    "# Drill 2: Build an initial model using house prices dataset\n",
    "\n",
    "Now, it's your turn to design your first regression model. In this module, you'll be using \"House Prices\" dataset from Kaggle. This dataset consists of 79 variables describing many aspects of residential homes in Ames, Iowa. Using this data, your task will be to predict the prices of the houses. You can find the descriptions of the variables here: [House Prices](https://www.kaggle.com/c/house-prices-advanced-regression-techniques/data)\n",
    "\n",
    "In this exercise, you need to submit a jupyter notebook containing your solutions to the following tasks:\n",
    "\n",
    "* Load the dataset from the Thinkful postgresql database.\n",
    "* Investigate the data and do the necessary data cleaning.\n",
    "* Explore the data and find some variables that you think would be useful in the prediction of the house prices.\n",
    "* Build your initial model using these features and estimate the parameters using OLS."
   ]
  }
 ],
 "metadata": {
  "kernelspec": {
   "display_name": "Python 3",
   "language": "python",
   "name": "python3"
  },
  "language_info": {
   "codemirror_mode": {
    "name": "ipython",
    "version": 3
   },
   "file_extension": ".py",
   "mimetype": "text/x-python",
   "name": "python",
   "nbconvert_exporter": "python",
   "pygments_lexer": "ipython3",
   "version": "3.6.5"
  }
 },
 "nbformat": 4,
 "nbformat_minor": 2
}
